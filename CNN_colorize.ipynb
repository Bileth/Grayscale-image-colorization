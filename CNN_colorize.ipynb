{
  "cells": [
    {
      "cell_type": "markdown",
      "metadata": {
        "id": "view-in-github",
        "colab_type": "text"
      },
      "source": [
        "<a href=\"https://colab.research.google.com/github/Bileth/Grayscale-image-colorization/blob/master/CNN_colorize.ipynb\" target=\"_parent\"><img src=\"https://colab.research.google.com/assets/colab-badge.svg\" alt=\"Open In Colab\"/></a>"
      ]
    },
    {
      "cell_type": "code",
      "execution_count": 1,
      "metadata": {
        "id": "1xCmg3T-kBJq"
      },
      "outputs": [],
      "source": [
        "import numpy as np\n",
        "import cv2\n",
        "import os\n",
        "from matplotlib import pyplot as plt\n",
        "import tensorflow as tf"
      ]
    },
    {
      "cell_type": "code",
      "execution_count": 2,
      "metadata": {
        "id": "S8BHOYPjydOy"
      },
      "outputs": [],
      "source": [
        "from keras.layers import Dense, Dropout, Activation, Flatten\n",
        "from keras.layers import Convolution2D as Conv2D, MaxPooling2D\n",
        "from keras.utils import np_utils\n",
        "import keras\n",
        "from keras.models import Sequential\n",
        "from keras import backend as K\n",
        "from keras import losses\n",
        "from tensorflow.keras.layers import BatchNormalization\n",
        "from sklearn.metrics import mean_absolute_error"
      ]
    },
    {
      "cell_type": "code",
      "execution_count": 3,
      "metadata": {
        "id": "7rEaXp1OkUoG"
      },
      "outputs": [],
      "source": [
        "def read_images(path,num_images,xdim,ydim):\n",
        "    images = []\n",
        "    all_paths = os.listdir(path)\n",
        "    mini_set = all_paths[:num_images]\n",
        "    for i in mini_set:\n",
        "        file = path+\"/\"+i\n",
        "        image = cv2.imread(file)\n",
        "        image = cv2.resize(image,(xdim,ydim))\n",
        "        images.append(image)\n",
        "\n",
        "    return images\n",
        "\n",
        "#funkcija za pretvaranje rgb u  lab \n",
        "def rgb_to_lab(images):\n",
        "    lab_images = []\n",
        "    for i in images:\n",
        "        lab_image= cv2.cvtColor(i, cv2.COLOR_RGB2LAB)\n",
        "        lab_images.append(lab_image)\n",
        "\n",
        "    return lab_images\n",
        "\n",
        "def lab_to_rgb(images):\n",
        "    rgb_images = []\n",
        "    for i in images:\n",
        "        lab_image= cv2.cvtColor(i, cv2.COLOR_LAB2RGB)\n",
        "        lab_images.append(lab_image)\n",
        "\n",
        "#funkcija za izdvajanje l kanala i ab za trening \n",
        "def extract_channels(lab_images):\n",
        "    l_channels = []\n",
        "    a_channels = []\n",
        "    b_channels = []\n",
        "    for i in lab_images:\n",
        "        l,a,b = cv2.split(i)\n",
        "        l_channels.append(l)\n",
        "        a_channels.append(a)\n",
        "        b_channels.append(b)\n",
        "\n",
        "    return np.array(l_channels), np.array(a_channels), np.array(b_channels)\n",
        "\n",
        "#funkcija za stvaranje podataka za treniranje i testiranje\n",
        "def create_train_data(l,a,b):\n",
        "    train_data = []\n",
        "    for i in l:\n",
        "        train_data.append(np.array(i,dtype= 'float32'))\n",
        "    train_labels_a = []\n",
        "    train_labels_b = []\n",
        "    for i in a:\n",
        "        train_labels_a.append(np.array(i.flatten(),dtype='float32'))\n",
        "    for i in b:\n",
        "        train_labels_b.append(np.array(i.flatten(),dtype='float32'))\n",
        "    train_labels = []\n",
        "    for i,j in zip(train_labels_a,train_labels_b):\n",
        "        train_labels.append(np.concatenate((i,j),axis = 0))\n",
        "    \n",
        "    return train_data, train_labels"
      ]
    },
    {
      "cell_type": "code",
      "execution_count": 4,
      "metadata": {
        "colab": {
          "base_uri": "https://localhost:8080/"
        },
        "id": "6Fr5MrxKzSW5",
        "outputId": "31efd19a-a4ef-42be-ecd9-967d8a65ed60"
      },
      "outputs": [
        {
          "output_type": "stream",
          "name": "stdout",
          "text": [
            "Cloning into 'clone'...\n",
            "remote: Enumerating objects: 14342, done.\u001b[K\n",
            "remote: Counting objects: 100% (14342/14342), done.\u001b[K\n",
            "remote: Compressing objects: 100% (14334/14334), done.\u001b[K\n",
            "remote: Total 14342 (delta 10), reused 14319 (delta 2), pack-reused 0\u001b[K\n",
            "Receiving objects: 100% (14342/14342), 346.53 MiB | 22.84 MiB/s, done.\n",
            "Resolving deltas: 100% (10/10), done.\n",
            "Checking out files: 100% (22302/22302), done.\n"
          ]
        }
      ],
      "source": [
        "!rm -rf clone && git clone https://github.com/Bileth/Grayscale-image-colorization clone && cp -a clone/. ."
      ]
    },
    {
      "cell_type": "code",
      "execution_count": 5,
      "metadata": {
        "id": "SWPpSN4mkW5P"
      },
      "outputs": [],
      "source": [
        "path = \"train/images/color\"  \n",
        "num_images = 7000  \n",
        "x_dim = 128\n",
        "y_dim = 128\n",
        "images = read_images(path,num_images,x_dim,y_dim)\n",
        "lab_images = rgb_to_lab(images)\n",
        "l,a,b = extract_channels(lab_images)\n",
        "train_data, train_labels = create_train_data(l,a,b)"
      ]
    },
    {
      "cell_type": "code",
      "source": [
        "print(len(images))"
      ],
      "metadata": {
        "colab": {
          "base_uri": "https://localhost:8080/"
        },
        "id": "2eLY4Ygs6Ieg",
        "outputId": "278c03c4-bc3f-438d-ba15-6d86f022828f"
      },
      "execution_count": 8,
      "outputs": [
        {
          "output_type": "stream",
          "name": "stdout",
          "text": [
            "7000\n"
          ]
        }
      ]
    },
    {
      "cell_type": "code",
      "source": [
        "print(len(train_data))"
      ],
      "metadata": {
        "colab": {
          "base_uri": "https://localhost:8080/"
        },
        "id": "NCg0u_wB6s3D",
        "outputId": "c41dbd0b-f1d4-4ab4-c94a-71ca34fc88d3"
      },
      "execution_count": 9,
      "outputs": [
        {
          "output_type": "stream",
          "name": "stdout",
          "text": [
            "7000\n"
          ]
        }
      ]
    },
    {
      "cell_type": "code",
      "execution_count": 10,
      "metadata": {
        "id": "5u_r7lijyabx"
      },
      "outputs": [],
      "source": [
        "train_data = np.reshape(train_data,(num_images,x_dim,y_dim,1))\n",
        "train_data.shape[3]\n",
        "train_labels = np.reshape(train_labels,(num_images,128*128*2))"
      ]
    },
    {
      "cell_type": "code",
      "source": [
        "print(train_data.shape)"
      ],
      "metadata": {
        "colab": {
          "base_uri": "https://localhost:8080/"
        },
        "id": "KhPr7-qk6zAu",
        "outputId": "e6104db3-3931-4172-822b-4848cbdff91d"
      },
      "execution_count": 12,
      "outputs": [
        {
          "output_type": "stream",
          "name": "stdout",
          "text": [
            "(7000, 128, 128, 1)\n"
          ]
        }
      ]
    },
    {
      "cell_type": "code",
      "source": [
        "img_cols = 128\n",
        "img_rows = 128\n",
        "if K.image_data_format() == 'channels_first':\n",
        "    train_data = train_data.reshape(train_data.shape[0], 1, img_rows, img_cols)\n",
        "    input_shape = (1, img_rows, img_cols)\n",
        "else:\n",
        "    train_data = train_data.reshape(train_data.shape[0], img_rows, img_cols, 1)\n",
        "    input_shape = (img_rows, img_cols, 1)"
      ],
      "metadata": {
        "id": "9H4UymQD9T6s"
      },
      "execution_count": 13,
      "outputs": []
    },
    {
      "cell_type": "code",
      "execution_count": 14,
      "metadata": {
        "colab": {
          "base_uri": "https://localhost:8080/"
        },
        "id": "lP5ihTF9yfG2",
        "outputId": "96f3d2a4-694a-433e-e1d7-4fe3944938ad"
      },
      "outputs": [
        {
          "output_type": "stream",
          "name": "stdout",
          "text": [
            "Model: \"sequential\"\n",
            "_________________________________________________________________\n",
            " Layer (type)                Output Shape              Param #   \n",
            "=================================================================\n",
            " conv2d (Conv2D)             (None, 126, 126, 64)      640       \n",
            "                                                                 \n",
            " max_pooling2d (MaxPooling2D  (None, 63, 63, 64)       0         \n",
            " )                                                               \n",
            "                                                                 \n",
            " conv2d_1 (Conv2D)           (None, 61, 61, 64)        36928     \n",
            "                                                                 \n",
            " batch_normalization (BatchN  (None, 61, 61, 64)       256       \n",
            " ormalization)                                                   \n",
            "                                                                 \n",
            " max_pooling2d_1 (MaxPooling  (None, 30, 30, 64)       0         \n",
            " 2D)                                                             \n",
            "                                                                 \n",
            " conv2d_2 (Conv2D)           (None, 28, 28, 128)       73856     \n",
            "                                                                 \n",
            " max_pooling2d_2 (MaxPooling  (None, 14, 14, 128)      0         \n",
            " 2D)                                                             \n",
            "                                                                 \n",
            " conv2d_3 (Conv2D)           (None, 12, 12, 256)       295168    \n",
            "                                                                 \n",
            " batch_normalization_1 (Batc  (None, 12, 12, 256)      1024      \n",
            " hNormalization)                                                 \n",
            "                                                                 \n",
            " max_pooling2d_3 (MaxPooling  (None, 6, 6, 256)        0         \n",
            " 2D)                                                             \n",
            "                                                                 \n",
            " conv2d_4 (Conv2D)           (None, 4, 4, 128)         295040    \n",
            "                                                                 \n",
            " conv2d_5 (Conv2D)           (None, 2, 2, 32)          36896     \n",
            "                                                                 \n",
            " batch_normalization_2 (Batc  (None, 2, 2, 32)         128       \n",
            " hNormalization)                                                 \n",
            "                                                                 \n",
            " flatten (Flatten)           (None, 128)               0         \n",
            "                                                                 \n",
            " dropout (Dropout)           (None, 128)               0         \n",
            "                                                                 \n",
            " dense (Dense)               (None, 32768)             4227072   \n",
            "                                                                 \n",
            "=================================================================\n",
            "Total params: 4,967,008\n",
            "Trainable params: 4,966,304\n",
            "Non-trainable params: 704\n",
            "_________________________________________________________________\n"
          ]
        }
      ],
      "source": [
        "model = Sequential()\n",
        "model.add(Conv2D(64, (3, 3),activation='relu',input_shape=input_shape))\n",
        "model.add(MaxPooling2D(pool_size=(2, 2)))\n",
        "model.add(Conv2D(64, (3, 3),activation='relu',input_shape=input_shape))\n",
        "model.add(BatchNormalization())\n",
        "model.add(MaxPooling2D(pool_size=(2, 2)))\n",
        "model.add(Conv2D(128, (3, 3), activation='relu'))\n",
        "model.add(MaxPooling2D(pool_size=(2, 2)))\n",
        "model.add(Conv2D(256, (3, 3), activation='relu'))\n",
        "model.add(BatchNormalization())\n",
        "model.add(MaxPooling2D(pool_size=(2, 2)))\n",
        "model.add(Conv2D(128, (3, 3), activation='relu'))\n",
        "model.add(Conv2D(32, (3, 3), activation='relu'))\n",
        "model.add(BatchNormalization())\n",
        "model.add(Flatten())\n",
        "model.add(Dropout(0.2))\n",
        "model.add(Dense(train_labels.shape[1], activation='linear'))\n",
        "model.summary()"
      ]
    },
    {
      "cell_type": "code",
      "source": [
        "opt = tf.keras.optimizers.Adam(learning_rate=0.001)"
      ],
      "metadata": {
        "id": "Ew3HBlAc8KnD"
      },
      "execution_count": 15,
      "outputs": []
    },
    {
      "cell_type": "code",
      "execution_count": 16,
      "metadata": {
        "id": "cNc0usJ4ygrq"
      },
      "outputs": [],
      "source": [
        "model.compile(loss='mse',\n",
        "              optimizer= opt)"
      ]
    },
    {
      "cell_type": "code",
      "execution_count": 17,
      "metadata": {
        "colab": {
          "base_uri": "https://localhost:8080/"
        },
        "id": "eVv-wIEtyhzF",
        "outputId": "b4413957-76d8-42bd-c502-2e339bb5319d"
      },
      "outputs": [
        {
          "output_type": "stream",
          "name": "stdout",
          "text": [
            "Epoch 1/200\n",
            "197/197 [==============================] - 25s 71ms/step - loss: 16001.2695 - val_loss: 15812.2988\n",
            "Epoch 2/200\n",
            "197/197 [==============================] - 13s 64ms/step - loss: 11772.9521 - val_loss: 13973.6484\n",
            "Epoch 3/200\n",
            "197/197 [==============================] - 13s 65ms/step - loss: 2469.5728 - val_loss: 447.2829\n",
            "Epoch 4/200\n",
            "197/197 [==============================] - 13s 65ms/step - loss: 342.3705 - val_loss: 359.7649\n",
            "Epoch 5/200\n",
            "197/197 [==============================] - 13s 65ms/step - loss: 246.3934 - val_loss: 166.3129\n",
            "Epoch 6/200\n",
            "197/197 [==============================] - 13s 65ms/step - loss: 233.0981 - val_loss: 191.5218\n",
            "Epoch 7/200\n",
            "197/197 [==============================] - 13s 65ms/step - loss: 225.2186 - val_loss: 170.0842\n",
            "Epoch 8/200\n",
            "197/197 [==============================] - 13s 64ms/step - loss: 219.7666 - val_loss: 167.6593\n",
            "Epoch 9/200\n",
            "197/197 [==============================] - 13s 64ms/step - loss: 218.9992 - val_loss: 172.7591\n",
            "Epoch 10/200\n",
            "197/197 [==============================] - 13s 64ms/step - loss: 216.0703 - val_loss: 157.7718\n",
            "Epoch 11/200\n",
            "197/197 [==============================] - 13s 65ms/step - loss: 215.9851 - val_loss: 157.9793\n",
            "Epoch 12/200\n",
            "197/197 [==============================] - 13s 65ms/step - loss: 211.6455 - val_loss: 151.8238\n",
            "Epoch 13/200\n",
            "197/197 [==============================] - 13s 65ms/step - loss: 214.3949 - val_loss: 162.4563\n",
            "Epoch 14/200\n",
            "197/197 [==============================] - 13s 65ms/step - loss: 208.6758 - val_loss: 151.5877\n",
            "Epoch 15/200\n",
            "197/197 [==============================] - 13s 66ms/step - loss: 210.9424 - val_loss: 145.2290\n",
            "Epoch 16/200\n",
            "197/197 [==============================] - 13s 65ms/step - loss: 202.6685 - val_loss: 186.6343\n",
            "Epoch 17/200\n",
            "197/197 [==============================] - 13s 64ms/step - loss: 203.6793 - val_loss: 151.8958\n",
            "Epoch 18/200\n",
            "197/197 [==============================] - 13s 64ms/step - loss: 204.9487 - val_loss: 154.1981\n",
            "Epoch 19/200\n",
            "197/197 [==============================] - 13s 65ms/step - loss: 209.1897 - val_loss: 161.6013\n",
            "Epoch 20/200\n",
            "197/197 [==============================] - 13s 65ms/step - loss: 203.2812 - val_loss: 171.9093\n",
            "Epoch 21/200\n",
            "197/197 [==============================] - 13s 65ms/step - loss: 201.3100 - val_loss: 150.5974\n",
            "Epoch 22/200\n",
            "197/197 [==============================] - 13s 65ms/step - loss: 208.6499 - val_loss: 166.4504\n",
            "Epoch 23/200\n",
            "197/197 [==============================] - 13s 65ms/step - loss: 198.6411 - val_loss: 170.0064\n",
            "Epoch 24/200\n",
            "197/197 [==============================] - 13s 64ms/step - loss: 197.4312 - val_loss: 176.0545\n",
            "Epoch 25/200\n",
            "197/197 [==============================] - 13s 64ms/step - loss: 196.7569 - val_loss: 242.5911\n",
            "Epoch 26/200\n",
            "197/197 [==============================] - 13s 65ms/step - loss: 196.0046 - val_loss: 188.8893\n",
            "Epoch 27/200\n",
            "197/197 [==============================] - 13s 64ms/step - loss: 193.4317 - val_loss: 173.9006\n",
            "Epoch 28/200\n",
            "197/197 [==============================] - 13s 65ms/step - loss: 191.3519 - val_loss: 158.7347\n",
            "Epoch 29/200\n",
            "197/197 [==============================] - 13s 64ms/step - loss: 187.9563 - val_loss: 152.8538\n",
            "Epoch 30/200\n",
            "197/197 [==============================] - 13s 64ms/step - loss: 188.5525 - val_loss: 154.9854\n",
            "Epoch 31/200\n",
            "197/197 [==============================] - 13s 65ms/step - loss: 185.9926 - val_loss: 147.4822\n",
            "Epoch 32/200\n",
            "197/197 [==============================] - 13s 65ms/step - loss: 184.5027 - val_loss: 165.3605\n",
            "Epoch 33/200\n",
            "197/197 [==============================] - 13s 65ms/step - loss: 186.0570 - val_loss: 197.4765\n",
            "Epoch 34/200\n",
            "197/197 [==============================] - 13s 64ms/step - loss: 180.8868 - val_loss: 162.3405\n",
            "Epoch 35/200\n",
            "197/197 [==============================] - 13s 65ms/step - loss: 178.9009 - val_loss: 145.7809\n",
            "Epoch 36/200\n",
            "197/197 [==============================] - 13s 65ms/step - loss: 177.2144 - val_loss: 214.5609\n",
            "Epoch 37/200\n",
            "197/197 [==============================] - 13s 64ms/step - loss: 176.0608 - val_loss: 148.5753\n",
            "Epoch 38/200\n",
            "197/197 [==============================] - 13s 64ms/step - loss: 172.5793 - val_loss: 206.1763\n",
            "Epoch 39/200\n",
            "197/197 [==============================] - 13s 64ms/step - loss: 168.0710 - val_loss: 153.7520\n",
            "Epoch 40/200\n",
            "197/197 [==============================] - 13s 64ms/step - loss: 168.6208 - val_loss: 146.4577\n",
            "Epoch 41/200\n",
            "197/197 [==============================] - 13s 65ms/step - loss: 173.3184 - val_loss: 187.2096\n",
            "Epoch 42/200\n",
            "197/197 [==============================] - 13s 64ms/step - loss: 162.0510 - val_loss: 148.5507\n",
            "Epoch 43/200\n",
            "197/197 [==============================] - 13s 64ms/step - loss: 161.4456 - val_loss: 152.5680\n",
            "Epoch 44/200\n",
            "197/197 [==============================] - 13s 64ms/step - loss: 161.6467 - val_loss: 163.7046\n",
            "Epoch 45/200\n",
            "197/197 [==============================] - 13s 64ms/step - loss: 155.6249 - val_loss: 139.6393\n",
            "Epoch 46/200\n",
            "197/197 [==============================] - 13s 64ms/step - loss: 156.6635 - val_loss: 158.1835\n",
            "Epoch 47/200\n",
            "197/197 [==============================] - 13s 64ms/step - loss: 151.6542 - val_loss: 149.6577\n",
            "Epoch 48/200\n",
            "197/197 [==============================] - 13s 64ms/step - loss: 150.9686 - val_loss: 143.7856\n",
            "Epoch 49/200\n",
            "197/197 [==============================] - 13s 65ms/step - loss: 147.9177 - val_loss: 174.3837\n",
            "Epoch 50/200\n",
            "197/197 [==============================] - 13s 64ms/step - loss: 150.7006 - val_loss: 143.7689\n",
            "Epoch 51/200\n",
            "197/197 [==============================] - 13s 65ms/step - loss: 152.7238 - val_loss: 155.6806\n",
            "Epoch 52/200\n",
            "197/197 [==============================] - 13s 64ms/step - loss: 146.7153 - val_loss: 161.4962\n",
            "Epoch 53/200\n",
            "197/197 [==============================] - 13s 64ms/step - loss: 145.6720 - val_loss: 173.7886\n",
            "Epoch 54/200\n",
            "197/197 [==============================] - 13s 63ms/step - loss: 142.5981 - val_loss: 154.2977\n",
            "Epoch 55/200\n",
            "197/197 [==============================] - 13s 64ms/step - loss: 144.0376 - val_loss: 157.0753\n",
            "Epoch 56/200\n",
            "197/197 [==============================] - 13s 64ms/step - loss: 137.5200 - val_loss: 170.8480\n",
            "Epoch 57/200\n",
            "197/197 [==============================] - 12s 63ms/step - loss: 138.7154 - val_loss: 172.2019\n",
            "Epoch 58/200\n",
            "197/197 [==============================] - 13s 65ms/step - loss: 139.3963 - val_loss: 173.2216\n",
            "Epoch 59/200\n",
            "197/197 [==============================] - 12s 63ms/step - loss: 137.1726 - val_loss: 162.8313\n",
            "Epoch 60/200\n",
            "197/197 [==============================] - 13s 64ms/step - loss: 136.7157 - val_loss: 155.1009\n",
            "Epoch 61/200\n",
            "197/197 [==============================] - 13s 65ms/step - loss: 134.1398 - val_loss: 163.4553\n",
            "Epoch 62/200\n",
            "197/197 [==============================] - 13s 64ms/step - loss: 132.1167 - val_loss: 151.6142\n",
            "Epoch 63/200\n",
            "197/197 [==============================] - 13s 64ms/step - loss: 132.4887 - val_loss: 154.4423\n",
            "Epoch 64/200\n",
            "197/197 [==============================] - 13s 64ms/step - loss: 129.4498 - val_loss: 144.9249\n",
            "Epoch 65/200\n",
            "197/197 [==============================] - 13s 64ms/step - loss: 130.0490 - val_loss: 184.4551\n",
            "Epoch 66/200\n",
            "197/197 [==============================] - 12s 63ms/step - loss: 131.6023 - val_loss: 168.5616\n",
            "Epoch 67/200\n",
            "197/197 [==============================] - 12s 63ms/step - loss: 129.8231 - val_loss: 148.3123\n",
            "Epoch 68/200\n",
            "197/197 [==============================] - 13s 64ms/step - loss: 127.0872 - val_loss: 162.8402\n",
            "Epoch 69/200\n",
            "197/197 [==============================] - 13s 64ms/step - loss: 130.7241 - val_loss: 201.1580\n",
            "Epoch 70/200\n",
            "197/197 [==============================] - 12s 63ms/step - loss: 129.5889 - val_loss: 171.7371\n",
            "Epoch 71/200\n",
            "197/197 [==============================] - 13s 64ms/step - loss: 126.4060 - val_loss: 150.1144\n",
            "Epoch 72/200\n",
            "197/197 [==============================] - 13s 63ms/step - loss: 126.8892 - val_loss: 168.1102\n",
            "Epoch 73/200\n",
            "197/197 [==============================] - 13s 64ms/step - loss: 124.5710 - val_loss: 155.6989\n",
            "Epoch 74/200\n",
            "197/197 [==============================] - 13s 64ms/step - loss: 126.4047 - val_loss: 184.2655\n",
            "Epoch 75/200\n",
            "197/197 [==============================] - 13s 64ms/step - loss: 123.0780 - val_loss: 150.0956\n",
            "Epoch 76/200\n",
            "197/197 [==============================] - 13s 64ms/step - loss: 123.1858 - val_loss: 173.9579\n",
            "Epoch 77/200\n",
            "197/197 [==============================] - 13s 64ms/step - loss: 123.1520 - val_loss: 156.2493\n",
            "Epoch 78/200\n",
            "197/197 [==============================] - 12s 63ms/step - loss: 122.4132 - val_loss: 161.1202\n",
            "Epoch 79/200\n",
            "197/197 [==============================] - 13s 64ms/step - loss: 119.9161 - val_loss: 154.4189\n",
            "Epoch 80/200\n",
            "197/197 [==============================] - 13s 64ms/step - loss: 121.9879 - val_loss: 164.2568\n",
            "Epoch 81/200\n",
            "197/197 [==============================] - 12s 63ms/step - loss: 122.6486 - val_loss: 182.8051\n",
            "Epoch 82/200\n",
            "197/197 [==============================] - 13s 63ms/step - loss: 119.5677 - val_loss: 142.4663\n",
            "Epoch 83/200\n",
            "197/197 [==============================] - 12s 63ms/step - loss: 120.7940 - val_loss: 177.1330\n",
            "Epoch 84/200\n",
            "197/197 [==============================] - 13s 63ms/step - loss: 119.2483 - val_loss: 177.3433\n",
            "Epoch 85/200\n",
            "197/197 [==============================] - 12s 63ms/step - loss: 122.1544 - val_loss: 161.0009\n",
            "Epoch 86/200\n",
            "197/197 [==============================] - 13s 64ms/step - loss: 121.6102 - val_loss: 148.6058\n",
            "Epoch 87/200\n",
            "197/197 [==============================] - 12s 63ms/step - loss: 118.9522 - val_loss: 147.5391\n",
            "Epoch 88/200\n",
            "197/197 [==============================] - 13s 64ms/step - loss: 118.4212 - val_loss: 163.9489\n",
            "Epoch 89/200\n",
            "197/197 [==============================] - 13s 64ms/step - loss: 122.6823 - val_loss: 171.0614\n",
            "Epoch 90/200\n",
            "197/197 [==============================] - 13s 64ms/step - loss: 120.0027 - val_loss: 144.4658\n",
            "Epoch 91/200\n",
            "197/197 [==============================] - 13s 64ms/step - loss: 118.1192 - val_loss: 148.4077\n",
            "Epoch 92/200\n",
            "197/197 [==============================] - 13s 65ms/step - loss: 118.4818 - val_loss: 149.0228\n",
            "Epoch 93/200\n",
            "197/197 [==============================] - 13s 64ms/step - loss: 116.6854 - val_loss: 159.7824\n",
            "Epoch 94/200\n",
            "197/197 [==============================] - 13s 64ms/step - loss: 115.9848 - val_loss: 165.2630\n",
            "Epoch 95/200\n",
            "197/197 [==============================] - 13s 64ms/step - loss: 116.4383 - val_loss: 157.2757\n",
            "Epoch 96/200\n",
            "197/197 [==============================] - 13s 64ms/step - loss: 115.9054 - val_loss: 150.3577\n",
            "Epoch 97/200\n",
            "197/197 [==============================] - 13s 64ms/step - loss: 115.3691 - val_loss: 161.3215\n",
            "Epoch 98/200\n",
            "197/197 [==============================] - 13s 65ms/step - loss: 114.4303 - val_loss: 148.0205\n",
            "Epoch 99/200\n",
            "197/197 [==============================] - 13s 64ms/step - loss: 115.7560 - val_loss: 159.4235\n",
            "Epoch 100/200\n",
            "197/197 [==============================] - 13s 64ms/step - loss: 115.6117 - val_loss: 153.0397\n",
            "Epoch 101/200\n",
            "197/197 [==============================] - 13s 65ms/step - loss: 115.7875 - val_loss: 158.4759\n",
            "Epoch 102/200\n",
            "197/197 [==============================] - 13s 65ms/step - loss: 115.0539 - val_loss: 168.4447\n",
            "Epoch 103/200\n",
            "197/197 [==============================] - 13s 65ms/step - loss: 113.8460 - val_loss: 140.3355\n",
            "Epoch 104/200\n",
            "197/197 [==============================] - 13s 64ms/step - loss: 115.0758 - val_loss: 155.3418\n",
            "Epoch 105/200\n",
            "197/197 [==============================] - 13s 64ms/step - loss: 114.9395 - val_loss: 158.2780\n",
            "Epoch 106/200\n",
            "197/197 [==============================] - 13s 64ms/step - loss: 113.7524 - val_loss: 159.9836\n",
            "Epoch 107/200\n",
            "197/197 [==============================] - 13s 64ms/step - loss: 111.7425 - val_loss: 163.0835\n",
            "Epoch 108/200\n",
            "197/197 [==============================] - 13s 64ms/step - loss: 113.0357 - val_loss: 161.7220\n",
            "Epoch 109/200\n",
            "197/197 [==============================] - 13s 64ms/step - loss: 113.4381 - val_loss: 151.6212\n",
            "Epoch 110/200\n",
            "197/197 [==============================] - 13s 64ms/step - loss: 113.0825 - val_loss: 160.3155\n",
            "Epoch 111/200\n",
            "197/197 [==============================] - 13s 64ms/step - loss: 112.3436 - val_loss: 147.9972\n",
            "Epoch 112/200\n",
            "197/197 [==============================] - 13s 65ms/step - loss: 112.7519 - val_loss: 149.5068\n",
            "Epoch 113/200\n",
            "197/197 [==============================] - 13s 64ms/step - loss: 113.0526 - val_loss: 159.5981\n",
            "Epoch 114/200\n",
            "197/197 [==============================] - 13s 64ms/step - loss: 111.2895 - val_loss: 147.2288\n",
            "Epoch 115/200\n",
            "197/197 [==============================] - 13s 64ms/step - loss: 111.7725 - val_loss: 156.1882\n",
            "Epoch 116/200\n",
            "197/197 [==============================] - 13s 64ms/step - loss: 111.7738 - val_loss: 163.8345\n",
            "Epoch 117/200\n",
            "197/197 [==============================] - 13s 64ms/step - loss: 110.8662 - val_loss: 151.8744\n",
            "Epoch 118/200\n",
            "197/197 [==============================] - 13s 64ms/step - loss: 110.1647 - val_loss: 185.7556\n",
            "Epoch 119/200\n",
            "197/197 [==============================] - 13s 64ms/step - loss: 110.8083 - val_loss: 168.6671\n",
            "Epoch 120/200\n",
            "197/197 [==============================] - 13s 65ms/step - loss: 112.2385 - val_loss: 157.6083\n",
            "Epoch 121/200\n",
            "197/197 [==============================] - 13s 64ms/step - loss: 110.6935 - val_loss: 159.6865\n",
            "Epoch 122/200\n",
            "197/197 [==============================] - 13s 64ms/step - loss: 110.6440 - val_loss: 154.7629\n",
            "Epoch 123/200\n",
            "197/197 [==============================] - 13s 64ms/step - loss: 110.8306 - val_loss: 162.4898\n",
            "Epoch 124/200\n",
            "197/197 [==============================] - 13s 64ms/step - loss: 111.2453 - val_loss: 145.2144\n",
            "Epoch 125/200\n",
            "197/197 [==============================] - 13s 65ms/step - loss: 110.1042 - val_loss: 153.4784\n",
            "Epoch 126/200\n",
            "197/197 [==============================] - 13s 65ms/step - loss: 109.4110 - val_loss: 156.0291\n",
            "Epoch 127/200\n",
            "197/197 [==============================] - 13s 65ms/step - loss: 110.9475 - val_loss: 163.3688\n",
            "Epoch 128/200\n",
            "197/197 [==============================] - 13s 65ms/step - loss: 108.8286 - val_loss: 160.1305\n",
            "Epoch 129/200\n",
            "197/197 [==============================] - 13s 65ms/step - loss: 109.3462 - val_loss: 160.1827\n",
            "Epoch 130/200\n",
            "197/197 [==============================] - 13s 65ms/step - loss: 110.1096 - val_loss: 177.6072\n",
            "Epoch 131/200\n",
            "197/197 [==============================] - 13s 65ms/step - loss: 110.0337 - val_loss: 154.4420\n",
            "Epoch 132/200\n",
            "197/197 [==============================] - 13s 65ms/step - loss: 108.2948 - val_loss: 153.2543\n",
            "Epoch 133/200\n",
            "197/197 [==============================] - 13s 65ms/step - loss: 108.5293 - val_loss: 158.6101\n",
            "Epoch 134/200\n",
            "197/197 [==============================] - 13s 64ms/step - loss: 109.7264 - val_loss: 154.8980\n",
            "Epoch 135/200\n",
            "197/197 [==============================] - 13s 64ms/step - loss: 108.3053 - val_loss: 147.9481\n",
            "Epoch 136/200\n",
            "197/197 [==============================] - 13s 64ms/step - loss: 107.6111 - val_loss: 156.4475\n",
            "Epoch 137/200\n",
            "197/197 [==============================] - 13s 64ms/step - loss: 106.0518 - val_loss: 162.9431\n",
            "Epoch 138/200\n",
            "197/197 [==============================] - 13s 64ms/step - loss: 107.2557 - val_loss: 151.7871\n",
            "Epoch 139/200\n",
            "197/197 [==============================] - 13s 64ms/step - loss: 107.8036 - val_loss: 163.9241\n",
            "Epoch 140/200\n",
            "197/197 [==============================] - 13s 64ms/step - loss: 105.8914 - val_loss: 156.3586\n",
            "Epoch 141/200\n",
            "197/197 [==============================] - 13s 64ms/step - loss: 107.3247 - val_loss: 151.6702\n",
            "Epoch 142/200\n",
            "197/197 [==============================] - 13s 64ms/step - loss: 107.6731 - val_loss: 152.7940\n",
            "Epoch 143/200\n",
            "197/197 [==============================] - 13s 64ms/step - loss: 107.7462 - val_loss: 147.4672\n",
            "Epoch 144/200\n",
            "197/197 [==============================] - 13s 65ms/step - loss: 106.0030 - val_loss: 153.5382\n",
            "Epoch 145/200\n",
            "197/197 [==============================] - 13s 65ms/step - loss: 106.5176 - val_loss: 154.2116\n",
            "Epoch 146/200\n",
            "197/197 [==============================] - 13s 64ms/step - loss: 106.2741 - val_loss: 159.3499\n",
            "Epoch 147/200\n",
            "197/197 [==============================] - 13s 64ms/step - loss: 106.1081 - val_loss: 157.1516\n",
            "Epoch 148/200\n",
            "197/197 [==============================] - 13s 64ms/step - loss: 106.5762 - val_loss: 183.0703\n",
            "Epoch 149/200\n",
            "197/197 [==============================] - 13s 64ms/step - loss: 106.9457 - val_loss: 156.4139\n",
            "Epoch 150/200\n",
            "197/197 [==============================] - 13s 64ms/step - loss: 106.7469 - val_loss: 146.8775\n",
            "Epoch 151/200\n",
            "197/197 [==============================] - 13s 64ms/step - loss: 106.6904 - val_loss: 160.4823\n",
            "Epoch 152/200\n",
            "197/197 [==============================] - 13s 65ms/step - loss: 104.8436 - val_loss: 162.8157\n",
            "Epoch 153/200\n",
            "197/197 [==============================] - 13s 64ms/step - loss: 105.5981 - val_loss: 150.6369\n",
            "Epoch 154/200\n",
            "197/197 [==============================] - 13s 64ms/step - loss: 106.0067 - val_loss: 163.8137\n",
            "Epoch 155/200\n",
            "197/197 [==============================] - 13s 64ms/step - loss: 107.0666 - val_loss: 158.0636\n",
            "Epoch 156/200\n",
            "197/197 [==============================] - 13s 64ms/step - loss: 107.6226 - val_loss: 154.9485\n",
            "Epoch 157/200\n",
            "197/197 [==============================] - 13s 64ms/step - loss: 104.2806 - val_loss: 152.6387\n",
            "Epoch 158/200\n",
            "197/197 [==============================] - 13s 64ms/step - loss: 106.9682 - val_loss: 152.6994\n",
            "Epoch 159/200\n",
            "197/197 [==============================] - 13s 64ms/step - loss: 105.2549 - val_loss: 147.6727\n",
            "Epoch 160/200\n",
            "197/197 [==============================] - 13s 64ms/step - loss: 104.2610 - val_loss: 148.7090\n",
            "Epoch 161/200\n",
            "197/197 [==============================] - 13s 64ms/step - loss: 105.6533 - val_loss: 159.1869\n",
            "Epoch 162/200\n",
            "197/197 [==============================] - 13s 64ms/step - loss: 104.1039 - val_loss: 161.2780\n",
            "Epoch 163/200\n",
            "197/197 [==============================] - 13s 64ms/step - loss: 103.9023 - val_loss: 152.3021\n",
            "Epoch 164/200\n",
            "197/197 [==============================] - 13s 64ms/step - loss: 104.2570 - val_loss: 151.7364\n",
            "Epoch 165/200\n",
            "197/197 [==============================] - 13s 64ms/step - loss: 104.3003 - val_loss: 149.8470\n",
            "Epoch 166/200\n",
            "197/197 [==============================] - 13s 64ms/step - loss: 102.4249 - val_loss: 151.4530\n",
            "Epoch 167/200\n",
            "197/197 [==============================] - 13s 64ms/step - loss: 104.9863 - val_loss: 160.5650\n",
            "Epoch 168/200\n",
            "197/197 [==============================] - 13s 64ms/step - loss: 103.7701 - val_loss: 159.2510\n",
            "Epoch 169/200\n",
            "197/197 [==============================] - 13s 64ms/step - loss: 103.0250 - val_loss: 167.8548\n",
            "Epoch 170/200\n",
            "197/197 [==============================] - 13s 64ms/step - loss: 104.1188 - val_loss: 156.4606\n",
            "Epoch 171/200\n",
            "197/197 [==============================] - 13s 64ms/step - loss: 104.4848 - val_loss: 149.7864\n",
            "Epoch 172/200\n",
            "197/197 [==============================] - 13s 64ms/step - loss: 102.0367 - val_loss: 149.2460\n",
            "Epoch 173/200\n",
            "197/197 [==============================] - 13s 64ms/step - loss: 102.0293 - val_loss: 156.5019\n",
            "Epoch 174/200\n",
            "197/197 [==============================] - 13s 64ms/step - loss: 103.5833 - val_loss: 157.7497\n",
            "Epoch 175/200\n",
            "197/197 [==============================] - 13s 65ms/step - loss: 104.3776 - val_loss: 155.9265\n",
            "Epoch 176/200\n",
            "197/197 [==============================] - 13s 64ms/step - loss: 105.8612 - val_loss: 159.6084\n",
            "Epoch 177/200\n",
            "197/197 [==============================] - 13s 64ms/step - loss: 102.9245 - val_loss: 170.5683\n",
            "Epoch 178/200\n",
            "197/197 [==============================] - 13s 64ms/step - loss: 103.1708 - val_loss: 158.6458\n",
            "Epoch 179/200\n",
            "197/197 [==============================] - 13s 64ms/step - loss: 100.8334 - val_loss: 152.5711\n",
            "Epoch 180/200\n",
            "197/197 [==============================] - 13s 64ms/step - loss: 103.4079 - val_loss: 165.5632\n",
            "Epoch 181/200\n",
            "197/197 [==============================] - 13s 64ms/step - loss: 103.2603 - val_loss: 160.6597\n",
            "Epoch 182/200\n",
            "197/197 [==============================] - 13s 64ms/step - loss: 104.2900 - val_loss: 168.0746\n",
            "Epoch 183/200\n",
            "197/197 [==============================] - 13s 64ms/step - loss: 105.1127 - val_loss: 152.0567\n",
            "Epoch 184/200\n",
            "197/197 [==============================] - 13s 64ms/step - loss: 103.2617 - val_loss: 150.2955\n",
            "Epoch 185/200\n",
            "197/197 [==============================] - 13s 64ms/step - loss: 101.7254 - val_loss: 147.6995\n",
            "Epoch 186/200\n",
            "197/197 [==============================] - 13s 64ms/step - loss: 102.0688 - val_loss: 157.2842\n",
            "Epoch 187/200\n",
            "197/197 [==============================] - 13s 64ms/step - loss: 103.3302 - val_loss: 152.5767\n",
            "Epoch 188/200\n",
            "197/197 [==============================] - 13s 64ms/step - loss: 104.0502 - val_loss: 146.2962\n",
            "Epoch 189/200\n",
            "197/197 [==============================] - 13s 64ms/step - loss: 101.9699 - val_loss: 159.5097\n",
            "Epoch 190/200\n",
            "197/197 [==============================] - 13s 65ms/step - loss: 101.3045 - val_loss: 148.3260\n",
            "Epoch 191/200\n",
            "197/197 [==============================] - 13s 64ms/step - loss: 102.0684 - val_loss: 157.5697\n",
            "Epoch 192/200\n",
            "197/197 [==============================] - 13s 64ms/step - loss: 100.6945 - val_loss: 169.0713\n",
            "Epoch 193/200\n",
            "197/197 [==============================] - 13s 65ms/step - loss: 101.9626 - val_loss: 152.7332\n",
            "Epoch 194/200\n",
            "197/197 [==============================] - 13s 64ms/step - loss: 101.3891 - val_loss: 154.7415\n",
            "Epoch 195/200\n",
            "197/197 [==============================] - 13s 65ms/step - loss: 102.1399 - val_loss: 157.5849\n",
            "Epoch 196/200\n",
            "197/197 [==============================] - 13s 64ms/step - loss: 100.6579 - val_loss: 167.4909\n",
            "Epoch 197/200\n",
            "197/197 [==============================] - 13s 64ms/step - loss: 118.6608 - val_loss: 253.9718\n",
            "Epoch 198/200\n",
            "197/197 [==============================] - 13s 64ms/step - loss: 111.0328 - val_loss: 142.2690\n",
            "Epoch 199/200\n",
            "197/197 [==============================] - 13s 64ms/step - loss: 102.9436 - val_loss: 140.6576\n",
            "Epoch 200/200\n",
            "197/197 [==============================] - 13s 64ms/step - loss: 103.4655 - val_loss: 139.0530\n"
          ]
        }
      ],
      "source": [
        "batch_size = 64\n",
        "epochs = 200\n",
        "trainedmodel = model.fit(train_data, train_labels, epochs=epochs, validation_split = 0.1)"
      ]
    },
    {
      "cell_type": "code",
      "source": [
        "model.save(\"CNN_colorize.h5\")"
      ],
      "metadata": {
        "id": "towKZZHh0e_t"
      },
      "execution_count": 18,
      "outputs": []
    },
    {
      "cell_type": "code",
      "source": [
        "# summarize history for loss\n",
        "plt.plot(trainedmodel.history['loss'])\n",
        "plt.title('model loss')\n",
        "plt.ylabel('loss')\n",
        "plt.xlabel('epoch')\n",
        "plt.legend(['train', 'test'], loc='upper left')\n",
        "plt.show()"
      ],
      "metadata": {
        "id": "Hp9vzOgU0djQ",
        "colab": {
          "base_uri": "https://localhost:8080/",
          "height": 295
        },
        "outputId": "4fd44358-2765-46ac-9b8c-ed6fb2406ef7"
      },
      "execution_count": 19,
      "outputs": [
        {
          "output_type": "display_data",
          "data": {
            "image/png": "[encoded data removed]",
            "text/plain": [
              "<Figure size 432x288 with 1 Axes>"
            ]
          },
          "metadata": {
            "needs_background": "light"
          }
        }
      ]
    },
    {
      "cell_type": "code",
      "source": [
        "def plot_loss(history):\n",
        "  plt.plot(history.history['loss'], label='loss')\n",
        "  plt.plot(history.history['val_loss'], label='val_loss')\n",
        "  plt.xlabel('Epoch')\n",
        "  plt.ylabel('Error [MPG]')\n",
        "  plt.legend()\n",
        "  plt.grid(True)"
      ],
      "metadata": {
        "id": "Rwi-O7DKFr65"
      },
      "execution_count": 20,
      "outputs": []
    },
    {
      "cell_type": "code",
      "source": [
        "plot_loss(trainedmodel)"
      ],
      "metadata": {
        "colab": {
          "base_uri": "https://localhost:8080/",
          "height": 279
        },
        "id": "sa0POnA0Fxj3",
        "outputId": "66d9c859-aae7-462e-c54a-0a00c5b95807"
      },
      "execution_count": 21,
      "outputs": [
        {
          "output_type": "display_data",
          "data": {
            "image/png": "[encoded data removed]",
            "text/plain": [
              "<Figure size 432x288 with 1 Axes>"
            ]
          },
          "metadata": {
            "needs_background": "light"
          }
        }
      ]
    },
    {
      "cell_type": "code",
      "execution_count": 22,
      "metadata": {
        "id": "hzyab6BSykp7"
      },
      "outputs": [],
      "source": [
        "path = \"test/images/gray\"\n",
        "num_images = 19\n",
        "\n",
        "x_dim = 128\n",
        "y_dim = 128\n",
        "images = read_images(path,num_images,x_dim,y_dim) \n",
        "lab_images = rgb_to_lab(images) \n",
        "l,a,b = extract_channels(lab_images)\n",
        "train_data, train_labels = create_train_data(l,a,b)"
      ]
    },
    {
      "cell_type": "code",
      "execution_count": 23,
      "metadata": {
        "id": "UMrzrgMSyloW"
      },
      "outputs": [],
      "source": [
        "index = 16 #odabir slike\n",
        "tr = np.reshape(train_data[index],(1,128,128,1)) \n",
        "p = model.predict(tr) "
      ]
    },
    {
      "cell_type": "code",
      "execution_count": 24,
      "metadata": {
        "id": "JH5dfR3QynOx"
      },
      "outputs": [],
      "source": [
        "x = list(p[0])\n",
        "length = len(p[0])\n",
        "x1 = x[:int(length/2)] #podjela predviđenog a i b kanala u jednake polovice kako bi ih dobili\n",
        "x2 = x[int(length/2):]\n",
        "\n",
        "x1 = np.array(np.reshape(x1,(x_dim,y_dim)),dtype = 'uint8')\n",
        "x2 = np.array(np.reshape(x2,(x_dim,y_dim)),dtype = 'uint8')\n",
        "\n",
        "t = np.array(np.reshape(tr,(x_dim,y_dim)),dtype = 'uint8')\n",
        "pred = cv2.merge((t,x1,x2)) #spajanje L kanala sa a i b kanalima kako bi dobili obojanu sliku"
      ]
    },
    {
      "cell_type": "code",
      "execution_count": 25,
      "metadata": {
        "id": "cLjL5bYBy5Bk",
        "colab": {
          "base_uri": "https://localhost:8080/",
          "height": 286
        },
        "outputId": "3c66dcef-a10a-471c-ff88-43da57a4eaa1"
      },
      "outputs": [
        {
          "output_type": "execute_result",
          "data": {
            "text/plain": [
              "True"
            ]
          },
          "metadata": {},
          "execution_count": 25
        },
        {
          "output_type": "display_data",
          "data": {
            "image/png": "[encoded data removed]",
            "text/plain": [
              "<Figure size 432x288 with 1 Axes>"
            ]
          },
          "metadata": {
            "needs_background": "light"
          }
        }
      ],
      "source": [
        "pred_n = cv2.cvtColor(pred, cv2.COLOR_LAB2RGB);\n",
        "plt.imshow(pred_n)\n",
        "cv2.imwrite('test/images/image18.png', pred_n)"
      ]
    },
    {
      "cell_type": "code",
      "source": [
        "path = \"test/images/color\"\n",
        "num_images = 19\n",
        "\n",
        "x_dim = 128\n",
        "y_dim = 128\n",
        "images = read_images(path,num_images,x_dim,y_dim) \n",
        "lab_images = rgb_to_lab(images) \n",
        "l,a,b = extract_channels(lab_images)\n",
        "actual, actual_labels = create_train_data(l,a,b)"
      ],
      "metadata": {
        "id": "d1gBDO8bJhLy"
      },
      "execution_count": 26,
      "outputs": []
    },
    {
      "cell_type": "code",
      "source": [
        "path = \"test/images\"\n",
        "num_images = 19\n",
        "\n",
        "x_dim = 128\n",
        "y_dim = 128\n",
        "images = read_images(path,num_images,x_dim,y_dim) \n",
        "lab_images = rgb_to_lab(images) \n",
        "l,a,b = extract_channels(lab_images)\n",
        "predicted, predicted_labels = create_train_data(l,a,b)"
      ],
      "metadata": {
        "colab": {
          "base_uri": "https://localhost:8080/",
          "height": 391
        },
        "id": "par0hPGsLczY",
        "outputId": "bbbc747d-d77c-4b86-b84e-18b1eef944c7"
      },
      "execution_count": 27,
      "outputs": [
        {
          "output_type": "error",
          "ename": "error",
          "evalue": "ignored",
          "traceback": [
            "\u001b[0;31m---------------------------------------------------------------------------\u001b[0m",
            "\u001b[0;31merror\u001b[0m                                     Traceback (most recent call last)",
            "\u001b[0;32m<ipython-input-27-3ce62180bd26>\u001b[0m in \u001b[0;36m<module>\u001b[0;34m()\u001b[0m\n\u001b[1;32m      4\u001b[0m \u001b[0mx_dim\u001b[0m \u001b[0;34m=\u001b[0m \u001b[0;36m128\u001b[0m\u001b[0;34m\u001b[0m\u001b[0;34m\u001b[0m\u001b[0m\n\u001b[1;32m      5\u001b[0m \u001b[0my_dim\u001b[0m \u001b[0;34m=\u001b[0m \u001b[0;36m128\u001b[0m\u001b[0;34m\u001b[0m\u001b[0;34m\u001b[0m\u001b[0m\n\u001b[0;32m----> 6\u001b[0;31m \u001b[0mimages\u001b[0m \u001b[0;34m=\u001b[0m \u001b[0mread_images\u001b[0m\u001b[0;34m(\u001b[0m\u001b[0mpath\u001b[0m\u001b[0;34m,\u001b[0m\u001b[0mnum_images\u001b[0m\u001b[0;34m,\u001b[0m\u001b[0mx_dim\u001b[0m\u001b[0;34m,\u001b[0m\u001b[0my_dim\u001b[0m\u001b[0;34m)\u001b[0m\u001b[0;34m\u001b[0m\u001b[0;34m\u001b[0m\u001b[0m\n\u001b[0m\u001b[1;32m      7\u001b[0m \u001b[0mlab_images\u001b[0m \u001b[0;34m=\u001b[0m \u001b[0mrgb_to_lab\u001b[0m\u001b[0;34m(\u001b[0m\u001b[0mimages\u001b[0m\u001b[0;34m)\u001b[0m\u001b[0;34m\u001b[0m\u001b[0;34m\u001b[0m\u001b[0m\n\u001b[1;32m      8\u001b[0m \u001b[0ml\u001b[0m\u001b[0;34m,\u001b[0m\u001b[0ma\u001b[0m\u001b[0;34m,\u001b[0m\u001b[0mb\u001b[0m \u001b[0;34m=\u001b[0m \u001b[0mextract_channels\u001b[0m\u001b[0;34m(\u001b[0m\u001b[0mlab_images\u001b[0m\u001b[0;34m)\u001b[0m\u001b[0;34m\u001b[0m\u001b[0;34m\u001b[0m\u001b[0m\n",
            "\u001b[0;32m<ipython-input-3-2a8023438547>\u001b[0m in \u001b[0;36mread_images\u001b[0;34m(path, num_images, xdim, ydim)\u001b[0m\n\u001b[1;32m      6\u001b[0m         \u001b[0mfile\u001b[0m \u001b[0;34m=\u001b[0m \u001b[0mpath\u001b[0m\u001b[0;34m+\u001b[0m\u001b[0;34m\"/\"\u001b[0m\u001b[0;34m+\u001b[0m\u001b[0mi\u001b[0m\u001b[0;34m\u001b[0m\u001b[0;34m\u001b[0m\u001b[0m\n\u001b[1;32m      7\u001b[0m         \u001b[0mimage\u001b[0m \u001b[0;34m=\u001b[0m \u001b[0mcv2\u001b[0m\u001b[0;34m.\u001b[0m\u001b[0mimread\u001b[0m\u001b[0;34m(\u001b[0m\u001b[0mfile\u001b[0m\u001b[0;34m)\u001b[0m\u001b[0;34m\u001b[0m\u001b[0;34m\u001b[0m\u001b[0m\n\u001b[0;32m----> 8\u001b[0;31m         \u001b[0mimage\u001b[0m \u001b[0;34m=\u001b[0m \u001b[0mcv2\u001b[0m\u001b[0;34m.\u001b[0m\u001b[0mresize\u001b[0m\u001b[0;34m(\u001b[0m\u001b[0mimage\u001b[0m\u001b[0;34m,\u001b[0m\u001b[0;34m(\u001b[0m\u001b[0mxdim\u001b[0m\u001b[0;34m,\u001b[0m\u001b[0mydim\u001b[0m\u001b[0;34m)\u001b[0m\u001b[0;34m)\u001b[0m\u001b[0;34m\u001b[0m\u001b[0;34m\u001b[0m\u001b[0m\n\u001b[0m\u001b[1;32m      9\u001b[0m         \u001b[0mimages\u001b[0m\u001b[0;34m.\u001b[0m\u001b[0mappend\u001b[0m\u001b[0;34m(\u001b[0m\u001b[0mimage\u001b[0m\u001b[0;34m)\u001b[0m\u001b[0;34m\u001b[0m\u001b[0;34m\u001b[0m\u001b[0m\n\u001b[1;32m     10\u001b[0m \u001b[0;34m\u001b[0m\u001b[0m\n",
            "\u001b[0;31merror\u001b[0m: OpenCV(4.1.2) /io/opencv/modules/imgproc/src/resize.cpp:3720: error: (-215:Assertion failed) !ssize.empty() in function 'resize'\n"
          ]
        }
      ]
    }
  ],
  "metadata": {
    "accelerator": "GPU",
    "colab": {
      "name": "CNN_colorize.ipynb",
      "provenance": [],
      "authorship_tag": "ABX9TyNDUcsLh1wpz3/5Om3sJ7U/",
      "include_colab_link": true
    },
    "kernelspec": {
      "display_name": "Python 3",
      "name": "python3"
    },
    "language_info": {
      "name": "python"
    }
  },
  "nbformat": 4,
  "nbformat_minor": 0
}